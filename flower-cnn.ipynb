{
 "cells": [
  {
   "cell_type": "code",
   "execution_count": 1,
   "metadata": {
    "execution": {
     "iopub.execute_input": "2021-11-22T15:55:03.321362Z",
     "iopub.status.busy": "2021-11-22T15:55:03.321084Z",
     "iopub.status.idle": "2021-11-22T15:55:03.326471Z",
     "shell.execute_reply": "2021-11-22T15:55:03.325750Z",
     "shell.execute_reply.started": "2021-11-22T15:55:03.321331Z"
    }
   },
   "outputs": [],
   "source": [
    "import torch\n",
    "import torchvision\n",
    "from torchvision import datasets, models, transforms\n",
    "import matplotlib.pyplot as plt\n",
    "import numpy as np\n",
    "import torch.nn as nn\n",
    "import torch.nn.functional as F\n",
    "import torch.optim as optim"
   ]
  },
  {
   "cell_type": "code",
   "execution_count": 3,
   "metadata": {},
   "outputs": [
    {
     "name": "stdout",
     "output_type": "stream",
     "text": [
      "cpu\n"
     ]
    }
   ],
   "source": [
    "device = torch.device(\"cuda\" if torch.cuda.is_available() else \"cpu\")\n",
    "print(device)"
   ]
  },
  {
   "cell_type": "code",
   "execution_count": 4,
   "metadata": {
    "execution": {
     "iopub.execute_input": "2021-11-22T15:57:26.646879Z",
     "iopub.status.busy": "2021-11-22T15:57:26.646566Z",
     "iopub.status.idle": "2021-11-22T15:57:27.056251Z",
     "shell.execute_reply": "2021-11-22T15:57:27.055329Z",
     "shell.execute_reply.started": "2021-11-22T15:57:26.646836Z"
    }
   },
   "outputs": [
    {
     "name": "stdout",
     "output_type": "stream",
     "text": [
      "<torch.utils.data.dataloader.DataLoader object at 0x7fd72f73bfa0>\n"
     ]
    }
   ],
   "source": [
    "transform = transforms.Compose(\n",
    "    [transforms.ToTensor(),\n",
    "    #  transforms.Resize(256),\n",
    "    #  transforms.CenterCrop(256),\n",
    "     transforms.Normalize((0.5, 0.5, 0.5), (0.5, 0.5, 0.5))])\n",
    "\n",
    "#trainset = datasets.ImageFolder(root='../input/flowers-recognition/', transform=transform)\n",
    "\n",
    "trainset = datasets.ImageFolder(root='train_this', transform=transform)\n",
    "\n",
    "trainloader = torch.utils.data.DataLoader(\n",
    "    trainset,\n",
    "    batch_size=8,\n",
    "    shuffle=True,\n",
    "    num_workers=2,\n",
    "    collate_fn=None,\n",
    "    pin_memory=False,\n",
    " )\n",
    "\n",
    "#testset = datasets.ImageFolder(root='../input/flowers-recognition', transform=transform)\n",
    "\n",
    "testset = datasets.ImageFolder(root='train_this' , transform=transform)\n",
    "\n",
    "testloader = torch.utils.data.DataLoader(\n",
    "    testset,\n",
    "    batch_size=8,\n",
    "    shuffle=True,\n",
    "    num_workers=2,\n",
    "    collate_fn=None,\n",
    "    pin_memory=False,\n",
    " )\n",
    "classes = (\"class_1\" , \"class_2\" , \"class_3\")\n",
    "\n",
    "print(trainloader)"
   ]
  },
  {
   "cell_type": "code",
   "execution_count": 5,
   "metadata": {
    "execution": {
     "iopub.execute_input": "2021-11-22T15:57:39.634794Z",
     "iopub.status.busy": "2021-11-22T15:57:39.634531Z",
     "iopub.status.idle": "2021-11-22T15:57:39.640019Z",
     "shell.execute_reply": "2021-11-22T15:57:39.639058Z",
     "shell.execute_reply.started": "2021-11-22T15:57:39.634764Z"
    }
   },
   "outputs": [],
   "source": [
    "def imshow(img , labels):\n",
    "    img = img / 2 + 0.5     # unnormalize\n",
    "    npimg = img.numpy()\n",
    "    plt.imshow(npimg.transpose((1, 2, 0)))\n",
    "    plt.show()\n",
    "    print(labels)"
   ]
  },
  {
   "cell_type": "code",
   "execution_count": 8,
   "metadata": {
    "execution": {
     "iopub.execute_input": "2021-11-22T15:57:43.960657Z",
     "iopub.status.busy": "2021-11-22T15:57:43.960348Z",
     "iopub.status.idle": "2021-11-22T15:57:44.501409Z",
     "shell.execute_reply": "2021-11-22T15:57:44.500361Z",
     "shell.execute_reply.started": "2021-11-22T15:57:43.960626Z"
    }
   },
   "outputs": [
    {
     "name": "stdout",
     "output_type": "stream",
     "text": [
      "8\n"
     ]
    },
    {
     "data": {
      "image/png": "[encoded data removed]",
      "text/plain": [
       "<Figure size 432x288 with 1 Axes>"
      ]
     },
     "metadata": {
      "needs_background": "light"
     },
     "output_type": "display_data"
    },
    {
     "name": "stdout",
     "output_type": "stream",
     "text": [
      "tensor([0, 1, 1, 1, 2, 1, 0, 1])\n"
     ]
    },
    {
     "data": {
      "text/plain": [
       "torch.Size([8, 3, 480, 640])"
      ]
     },
     "execution_count": 8,
     "metadata": {},
     "output_type": "execute_result"
    }
   ],
   "source": [
    "dataiter = iter(trainloader)\n",
    "images, labels = dataiter.next()\n",
    "print(len(images))\n",
    "# show images\n",
    "imshow(torchvision.utils.make_grid(images) , labels)\n",
    "# print labels\n",
    "images.size()"
   ]
  },
  {
   "cell_type": "code",
   "execution_count": 9,
   "metadata": {
    "execution": {
     "iopub.execute_input": "2021-11-22T15:58:22.694740Z",
     "iopub.status.busy": "2021-11-22T15:58:22.694330Z",
     "iopub.status.idle": "2021-11-22T15:58:22.707438Z",
     "shell.execute_reply": "2021-11-22T15:58:22.706324Z",
     "shell.execute_reply.started": "2021-11-22T15:58:22.694697Z"
    }
   },
   "outputs": [],
   "source": [
    "class NeuralNetwork(nn.Module):\n",
    "\n",
    "    def __init__(self):\n",
    "        super(NeuralNetwork,self).__init__()\n",
    "\n",
    "        # self.layer1 = nn.Sequential(nn.Conv2d(3,1,3),nn.BatchNorm2d(1),nn.ReLU())\n",
    "        # self.layer2 = nn.Sequential(nn.Conv2d(1,1,3),nn.BatchNorm2d(1),nn.ReLU())\n",
    "        # self.layer3 = nn.Sequential(nn.Conv2d(1,1,3),nn.BatchNorm2d(1),nn.ReLU())\n",
    "        # self.layer4 = nn.Sequential(nn.Conv2d(1,1,3),nn.BatchNorm2d(1),nn.ReLU())\n",
    "        # self.fc1 = nn.Linear(1*248*248,5)\n",
    "        self.layer1 = nn.Sequential(nn.Conv2d(3,16,3),nn.BatchNorm2d(16),nn.ReLU(),nn.MaxPool2d(2))\n",
    "        self.layer2 = nn.Sequential(nn.Conv2d(16,32,3),nn.BatchNorm2d(32),nn.ReLU(),nn.MaxPool2d(2))\n",
    "        self.layer3 = nn.Sequential(nn.Conv2d(32,64,3),nn.BatchNorm2d(64),nn.ReLU(),nn.MaxPool2d(2))\n",
    "        self.layer4 = nn.Sequential(nn.Conv2d(64,32,3),nn.BatchNorm2d(32),nn.ReLU(),nn.MaxPool2d(2))\n",
    "        self.layer5 = nn.Sequential(nn.Conv2d(32,16,3),nn.BatchNorm2d(16),nn.ReLU(),nn.MaxPool2d(2))\n",
    "        self.layer6 = nn.Sequential(nn.Conv2d(16,3,3),nn.BatchNorm2d(3),nn.ReLU(),nn.MaxPool2d(2))\n",
    "        # self.layer7= nn.Sequential(nn.Conv2d(3,3,3),nn.BatchNorm2d(3),nn.ReLU(),nn.MaxPool2d(2))\n",
    "        # self.layer8 = nn.Sequential(nn.Conv2d(16,3,3),nn.BatchNorm2d(3),nn.ReLU(),nn.MaxPool2d(2))\n",
    "        self.fc1 = nn.Linear(120,3)\n",
    "        self.sig = nn.Sigmoid()\n",
    "\n",
    "    def forward(self,x):\n",
    "        #print(x.shape)\n",
    "        out = self.layer1(x)\n",
    "        #print(out.shape)\n",
    "        out = self.layer2(out)\n",
    "        #print(out.shape)\n",
    "        out = self.layer3(out)\n",
    "        #print(out.shape)\n",
    "        out = self.layer4(out)\n",
    "        out = self.layer5(out)\n",
    "        out = self.layer6(out)\n",
    "        # out = self.layer7(out)\n",
    "        # out = self.layer8(out)\n",
    "        #print(out.shape)\n",
    "        out = out.view(out.size(0), -1)\n",
    "        out = self.fc1(out)\n",
    "        out = self.sig(out)\n",
    "        return out"
   ]
  },
  {
   "cell_type": "code",
   "execution_count": 10,
   "metadata": {
    "execution": {
     "iopub.execute_input": "2021-11-22T15:58:32.620287Z",
     "iopub.status.busy": "2021-11-22T15:58:32.619824Z",
     "iopub.status.idle": "2021-11-22T15:58:32.633029Z",
     "shell.execute_reply": "2021-11-22T15:58:32.632126Z",
     "shell.execute_reply.started": "2021-11-22T15:58:32.620249Z"
    }
   },
   "outputs": [
    {
     "name": "stdout",
     "output_type": "stream",
     "text": [
      "cpu\n"
     ]
    }
   ],
   "source": [
    "NN = NeuralNetwork().to(device)\n",
    "print(device)"
   ]
  },
  {
   "cell_type": "code",
   "execution_count": 11,
   "metadata": {
    "execution": {
     "iopub.execute_input": "2021-11-22T15:58:40.142314Z",
     "iopub.status.busy": "2021-11-22T15:58:40.141559Z",
     "iopub.status.idle": "2021-11-22T15:58:40.147842Z",
     "shell.execute_reply": "2021-11-22T15:58:40.146457Z",
     "shell.execute_reply.started": "2021-11-22T15:58:40.142262Z"
    }
   },
   "outputs": [],
   "source": [
    "criterion = nn.CrossEntropyLoss()\n",
    "optimizer = optim.Adam(NN.parameters(), lr=0.001)"
   ]
  },
  {
   "cell_type": "code",
   "execution_count": 35,
   "metadata": {
    "execution": {
     "iopub.execute_input": "2021-11-22T16:00:59.987130Z",
     "iopub.status.busy": "2021-11-22T16:00:59.986835Z",
     "iopub.status.idle": "2021-11-22T16:05:05.929867Z",
     "shell.execute_reply": "2021-11-22T16:05:05.928918Z",
     "shell.execute_reply.started": "2021-11-22T16:00:59.987098Z"
    }
   },
   "outputs": [
    {
     "name": "stdout",
     "output_type": "stream",
     "text": [
      "Epoch Start\n",
      "[[2, 2], [1, 1], [2, 2], [0, 0], [1, 1], [1, 0], [2, 2], [2, 1]]\n",
      "[[1, 2], [1, 1], [0, 0], [0, 0], [1, 1], [0, 0], [0, 0], [0, 0]]\n",
      "Epoch [1/100], [0.6659242510795593]\n",
      "[[0, 0], [0, 0], [2, 2], [1, 1], [0, 1], [1, 1], [0, 0], [2, 2]]\n",
      "[[1, 1], [0, 0], [2, 2], [0, 1], [2, 2], [1, 1], [2, 2], [0, 0]]\n",
      "Epoch [1/100], [0.5951990485191345]\n",
      "[[1, 1], [1, 1], [2, 2], [1, 1], [2, 2], [0, 1], [2, 2], [2, 2]]\n",
      "[[0, 0], [0, 1], [2, 2], [1, 1], [1, 1], [2, 2], [1, 2], [0, 0]]\n",
      "Epoch [1/100], [0.8723769187927246]\n",
      "[[0, 0], [1, 1], [0, 0], [0, 0], [0, 0], [2, 2], [0, 0], [0, 0]]\n",
      "[[1, 1], [2, 2], [1, 2], [1, 2], [1, 1], [2, 2], [0, 0], [0, 0]]\n",
      "Epoch [1/100], [0.8853540420532227]\n",
      "[[1, 1], [1, 1], [2, 2], [0, 0], [2, 2], [0, 0], [2, 2], [0, 0]]\n",
      "[[1, 1], [0, 1], [2, 2], [0, 0], [0, 1], [0, 0], [0, 1], [2, 2]]\n",
      "Epoch [1/100], [0.948640763759613]\n",
      "[[0, 1], [0, 0], [0, 0], [1, 1], [2, 2], [1, 1], [0, 0], [0, 0]]\n",
      "[[0, 0], [2, 2], [1, 1], [2, 2], [2, 2], [2, 2], [0, 1], [2, 2]]\n",
      "Epoch [1/100], [0.5994192957878113]\n",
      "[[0, 0], [0, 0], [1, 1], [1, 2], [2, 2], [1, 1], [0, 0], [0, 0]]\n",
      "[[0, 0], [0, 0], [0, 0], [2, 2], [2, 1], [2, 1], [0, 0], [0, 0]]\n",
      "Epoch [1/100], [0.7185973525047302]\n",
      "[[2, 2], [2, 2], [1, 1], [1, 1], [1, 1], [1, 1], [1, 1], [0, 0]]\n",
      "[[2, 2], [2, 2], [0, 0], [2, 2], [1, 2], [0, 0], [1, 1], [0, 0]]\n",
      "Epoch [1/100], [0.6756725907325745]\n",
      "[[2, 2], [0, 0], [2, 1], [2, 2], [2, 2], [2, 2], [1, 1], [0, 0]]\n",
      "[[0, 0], [2, 1], [0, 0], [0, 0], [0, 1], [1, 1], [0, 0], [0, 0]]\n",
      "Epoch [1/100], [0.7652254700660706]\n",
      "[[2, 2], [1, 1], [1, 1], [2, 2], [0, 0], [0, 0], [2, 2], [2, 2]]\n",
      "[[1, 1], [0, 0], [0, 0], [0, 1], [1, 1], [0, 0], [2, 1], [0, 0]]\n",
      "Epoch [1/100], [0.7543679475784302]\n",
      "[[1, 1], [1, 1], [2, 2], [0, 0], [1, 1], [2, 2], [1, 1], [2, 2]]\n",
      "[[0, 0], [1, 1], [0, 0], [1, 1], [0, 0], [0, 0], [2, 2], [0, 0]]\n",
      "Epoch [1/100], [0.5514495968818665]\n",
      "[[0, 0], [0, 0], [2, 2], [0, 0], [1, 1], [1, 1], [2, 2], [1, 1]]\n",
      "[[1, 1], [2, 2], [0, 0], [1, 1]]\n",
      "Epoch [1/100], [0.5514575242996216]\n",
      "Epoch End\n",
      "Epoch Start\n",
      "[[2, 2], [1, 1], [2, 2], [1, 1], [1, 1], [0, 0], [0, 0], [2, 2]]\n",
      "[[0, 0], [1, 1], [0, 0], [0, 0], [0, 0], [1, 1], [2, 2], [0, 1]]\n",
      "Epoch [2/100], [0.5902639627456665]\n",
      "[[1, 1], [2, 2], [2, 2], [2, 2], [2, 2], [2, 2], [1, 1], [0, 0]]\n",
      "[[2, 2], [2, 2], [0, 0], [0, 0], [2, 2], [0, 0], [2, 2], [0, 0]]\n",
      "Epoch [2/100], [0.5902730822563171]\n",
      "[[2, 2], [1, 1], [1, 0], [0, 0], [0, 0], [0, 0], [0, 0], [1, 0]]\n",
      "[[0, 0], [2, 1], [0, 0], [2, 2], [1, 1], [2, 2], [2, 1], [2, 2]]\n",
      "Epoch [2/100], [0.8790596723556519]\n",
      "[[0, 0], [0, 0], [2, 2], [0, 0], [1, 1], [2, 2], [0, 0], [0, 0]]\n",
      "[[1, 1], [2, 2], [1, 0], [1, 1], [0, 0], [1, 0], [2, 2], [2, 2]]\n",
      "Epoch [2/100], [0.8015369176864624]\n",
      "[[2, 2], [2, 2], [0, 1], [2, 2], [1, 1], [0, 0], [2, 2], [2, 1]]\n",
      "[[1, 0], [0, 0], [0, 0], [1, 1], [1, 1], [1, 0], [1, 1], [1, 0]]\n",
      "Epoch [2/100], [0.7136057019233704]\n",
      "[[2, 2], [2, 2], [1, 1], [0, 0], [2, 1], [0, 0], [1, 1], [0, 0]]\n",
      "[[1, 1], [1, 1], [2, 2], [1, 1], [1, 1], [2, 2], [0, 0], [0, 0]]\n",
      "Epoch [2/100], [0.5902636051177979]\n",
      "[[2, 2], [1, 1], [0, 0], [1, 1], [2, 2], [0, 1], [0, 0], [2, 2]]\n",
      "[[1, 1], [0, 0], [0, 0], [0, 0], [0, 0], [0, 0], [2, 2], [0, 0]]\n",
      "Epoch [2/100], [0.5902602076530457]\n",
      "[[1, 1], [1, 2], [2, 2], [1, 1], [2, 2], [0, 1], [1, 1], [1, 1]]\n",
      "[[1, 1], [2, 2], [1, 1], [0, 0], [0, 0], [1, 1], [0, 0], [2, 2]]\n",
      "Epoch [2/100], [0.5514450073242188]\n",
      "[[1, 1], [2, 2], [0, 1], [1, 1], [1, 2], [2, 2], [0, 0], [2, 1]]\n",
      "[[0, 0], [1, 1], [0, 0], [0, 0], [0, 0], [1, 1], [1, 1], [0, 0]]\n",
      "Epoch [2/100], [0.5514445900917053]\n",
      "[[1, 1], [1, 1], [0, 1], [0, 0], [2, 2], [0, 1], [2, 2], [2, 2]]\n",
      "[[2, 2], [0, 0], [1, 1], [1, 1], [2, 2], [2, 2], [2, 1], [1, 1]]\n",
      "Epoch [2/100], [0.7096930742263794]\n",
      "[[0, 0], [0, 0], [1, 2], [1, 1], [2, 2], [2, 2], [0, 0], [0, 0]]\n",
      "[[0, 0], [2, 1], [0, 0], [0, 1], [1, 1], [2, 2], [2, 1], [2, 2]]\n",
      "Epoch [2/100], [0.9178681969642639]\n",
      "[[2, 2], [2, 2], [0, 0], [0, 1], [0, 0], [1, 1], [0, 0], [0, 1]]\n",
      "[[2, 1], [2, 2], [0, 0], [0, 0]]\n",
      "Epoch [2/100], [0.8014447093009949]\n",
      "Epoch End\n",
      "Epoch Start\n",
      "[[1, 1], [2, 2], [0, 0], [2, 2], [0, 0], [0, 1], [2, 2], [2, 1]]\n",
      "[[0, 0], [2, 2], [0, 0], [0, 0], [2, 1], [2, 2], [2, 2], [2, 1]]\n",
      "Epoch [3/100], [0.8029701709747314]\n",
      "[[2, 1], [2, 1], [2, 0], [2, 1], [1, 1], [2, 2], [0, 0], [2, 2]]\n",
      "[[0, 0], [1, 0], [2, 2], [2, 2], [0, 0], [1, 1], [0, 0], [0, 0]]\n",
      "Epoch [3/100], [0.7077473998069763]\n",
      "[[2, 2], [0, 0], [0, 0], [0, 0], [2, 2], [2, 2], [1, 1], [2, 2]]\n",
      "[[0, 0], [2, 1], [0, 0], [0, 0], [2, 2], [2, 1], [0, 0], [2, 1]]\n",
      "Epoch [3/100], [0.8408305048942566]\n",
      "[[0, 0], [2, 2], [2, 2], [0, 0], [0, 0], [2, 1], [0, 0], [1, 1]]\n",
      "[[2, 2], [2, 2], [1, 1], [0, 0], [2, 2], [0, 0], [0, 0], [2, 1]]\n",
      "Epoch [3/100], [0.6764125823974609]\n",
      "[[1, 1], [2, 2], [2, 2], [2, 2], [1, 1], [0, 0], [0, 0], [2, 2]]\n",
      "[[2, 2], [2, 1], [0, 0], [0, 0], [0, 0], [1, 1], [1, 1], [2, 2]]\n",
      "Epoch [3/100], [0.7137104272842407]\n",
      "[[0, 0], [0, 0], [1, 0], [0, 0], [1, 1], [2, 2], [0, 1], [2, 2]]\n",
      "[[2, 2], [1, 1], [2, 2], [2, 1], [1, 1], [2, 2], [2, 2], [1, 1]]\n",
      "Epoch [3/100], [0.682622492313385]\n",
      "[[2, 1], [0, 0], [0, 1], [2, 2], [0, 0], [0, 0], [2, 2], [2, 1]]\n",
      "[[1, 1], [2, 2], [1, 1], [0, 0], [1, 1], [0, 0], [2, 2], [1, 1]]\n",
      "Epoch [3/100], [0.5566921830177307]\n",
      "[[0, 0], [2, 2], [2, 2], [2, 2], [0, 0], [2, 2], [0, 0], [2, 2]]\n",
      "[[0, 0], [2, 2], [0, 0], [2, 2], [0, 0], [0, 0], [2, 2], [0, 0]]\n",
      "Epoch [3/100], [0.5547859072685242]\n",
      "[[0, 0], [0, 0], [2, 2], [0, 0], [0, 0], [2, 2], [0, 0], [0, 0]]\n",
      "[[2, 2], [1, 1], [1, 1], [2, 1], [2, 2], [2, 2], [1, 1], [1, 1]]\n",
      "Epoch [3/100], [0.7134189605712891]\n",
      "[[2, 2], [2, 2], [2, 1], [1, 1], [2, 2], [1, 0], [0, 0], [1, 1]]\n",
      "[[0, 0], [1, 1], [2, 1], [0, 1], [2, 2], [0, 0], [0, 0], [1, 1]]\n",
      "Epoch [3/100], [0.7914559245109558]\n",
      "[[1, 1], [0, 0], [2, 2], [0, 0], [0, 0], [1, 1], [2, 2], [0, 0]]\n",
      "[[1, 1], [1, 1], [1, 1], [0, 0], [1, 1], [2, 1], [1, 1], [0, 0]]\n",
      "Epoch [3/100], [0.7526989579200745]\n",
      "[[0, 0], [1, 1], [0, 0], [1, 1], [1, 1], [0, 0], [2, 2], [1, 1]]\n",
      "[[1, 1], [1, 1], [1, 1], [1, 1]]\n",
      "Epoch [3/100], [0.5514446496963501]\n",
      "Epoch End\n",
      "Epoch Start\n",
      "[[2, 2], [1, 1], [2, 2], [1, 1], [2, 2], [2, 2], [1, 1], [1, 1]]\n",
      "[[0, 0], [1, 1], [2, 2], [0, 0], [2, 2], [0, 0], [2, 2], [0, 0]]\n",
      "Epoch [4/100], [0.5519604682922363]\n",
      "[[0, 0], [0, 0], [0, 0], [2, 2], [1, 1], [0, 0], [0, 1], [2, 2]]\n",
      "[[0, 0], [2, 2], [1, 1], [2, 2], [0, 0], [2, 2], [0, 0], [0, 0]]\n",
      "Epoch [4/100], [0.5906038880348206]\n",
      "[[0, 0], [2, 2], [2, 2], [2, 2], [0, 0], [0, 0], [2, 2], [2, 2]]\n",
      "[[2, 2], [1, 1], [0, 0], [2, 2], [1, 1], [2, 2], [2, 2], [2, 1]]\n",
      "Epoch [4/100], [0.6763222813606262]\n",
      "[[0, 0], [0, 0], [0, 0], [2, 2], [2, 1], [1, 1], [1, 1], [0, 0]]\n",
      "[[0, 0], [1, 1], [0, 0], [1, 1], [0, 0], [0, 0], [1, 1], [1, 1]]\n",
      "Epoch [4/100], [0.5514445900917053]\n",
      "[[1, 1], [0, 0], [0, 0], [2, 2], [1, 1], [2, 2], [0, 1], [2, 2]]\n",
      "[[0, 0], [0, 0], [0, 0], [2, 2], [2, 2], [1, 1], [0, 0], [0, 0]]\n",
      "Epoch [4/100], [0.5515883564949036]\n",
      "[[0, 0], [1, 1], [0, 0], [2, 1], [0, 0], [2, 1], [0, 0], [1, 1]]\n",
      "[[2, 2], [0, 0], [2, 1], [0, 0], [2, 2], [2, 2], [2, 1], [2, 2]]\n",
      "Epoch [4/100], [0.8008702993392944]\n",
      "[[2, 1], [2, 2], [2, 2], [0, 0], [0, 0], [2, 2], [0, 0], [0, 0]]\n",
      "[[0, 0], [0, 0], [1, 1], [1, 1], [2, 1], [0, 0], [2, 1], [0, 0]]\n",
      "Epoch [4/100], [0.8004515767097473]\n",
      "[[0, 0], [2, 1], [2, 2], [2, 2], [0, 0], [1, 1], [2, 2], [2, 2]]\n",
      "[[1, 1], [0, 0], [0, 1], [0, 0], [0, 0], [1, 1], [2, 1], [1, 1]]\n",
      "Epoch [4/100], [0.7562903165817261]\n",
      "[[1, 1], [1, 1], [2, 2], [1, 1], [0, 0], [2, 2], [0, 0], [1, 1]]\n",
      "[[0, 1], [0, 1], [2, 1], [2, 2], [2, 2], [0, 0], [1, 1], [1, 1]]\n",
      "Epoch [4/100], [0.8606061935424805]\n",
      "[[0, 0], [0, 0], [1, 1], [0, 0], [0, 0], [0, 0], [2, 2], [0, 0]]\n",
      "[[1, 1], [2, 2], [2, 2], [1, 1], [1, 1], [0, 0], [0, 0], [1, 1]]\n",
      "Epoch [4/100], [0.5515505075454712]\n",
      "[[0, 0], [2, 2], [2, 2], [2, 2], [0, 0], [2, 2], [1, 1], [2, 1]]\n",
      "[[2, 2], [2, 2], [0, 1], [0, 0], [1, 1], [0, 0], [0, 0], [1, 1]]\n",
      "Epoch [4/100], [0.5903874635696411]\n",
      "[[1, 1], [2, 1], [1, 1], [2, 2], [2, 2], [2, 2], [2, 2], [1, 1]]\n",
      "[[1, 1], [0, 0], [2, 2], [0, 0]]\n",
      "Epoch [4/100], [0.5515525937080383]\n",
      "Epoch End\n",
      "Epoch Start\n",
      "[[2, 2], [2, 2], [0, 0], [0, 0], [2, 2], [0, 0], [0, 0], [1, 1]]\n",
      "[[0, 0], [2, 2], [2, 1], [1, 1], [2, 2], [0, 0], [0, 0], [0, 1]]\n",
      "Epoch [5/100], [0.7551681995391846]\n",
      "[[0, 0], [0, 0], [2, 2], [2, 1], [0, 0], [2, 2], [1, 1], [2, 2]]\n",
      "[[1, 1], [1, 1], [0, 0], [2, 2], [1, 1], [1, 1], [0, 1], [0, 0]]\n",
      "Epoch [5/100], [0.6291428208351135]\n",
      "[[0, 0], [2, 2], [2, 1], [1, 1], [2, 2], [1, 1], [2, 2], [0, 0]]\n",
      "[[2, 2], [0, 0], [2, 1], [0, 0], [0, 0], [1, 1], [2, 2], [0, 0]]\n",
      "Epoch [5/100], [0.6762443780899048]\n",
      "[[1, 1], [0, 0], [2, 1], [2, 1], [0, 0], [0, 0], [2, 1], [1, 1]]\n",
      "[[1, 1], [2, 2], [1, 1], [2, 2], [2, 2], [0, 0], [0, 0], [2, 1]]\n",
      "Epoch [5/100], [0.6761966943740845]\n",
      "[[2, 2], [1, 1], [0, 0], [2, 2], [0, 0], [2, 2], [2, 2], [2, 2]]\n",
      "[[0, 0], [2, 2], [0, 0], [0, 0], [0, 0], [1, 1], [2, 2], [0, 0]]\n",
      "Epoch [5/100], [0.551633358001709]\n",
      "[[2, 2], [0, 1], [1, 1], [0, 0], [0, 0], [1, 1], [0, 0], [1, 1]]\n",
      "[[2, 2], [1, 1], [2, 2], [0, 0], [2, 2], [0, 0], [1, 1], [0, 0]]\n",
      "Epoch [5/100], [0.5517507195472717]\n",
      "[[0, 0], [0, 0], [0, 1], [0, 0], [2, 2], [0, 0], [1, 1], [2, 2]]\n",
      "[[2, 2], [0, 0], [2, 2], [0, 0], [0, 0], [2, 2], [0, 0], [2, 2]]\n",
      "Epoch [5/100], [0.5908008813858032]\n",
      "[[1, 1], [2, 2], [0, 0], [2, 2], [2, 2], [2, 1], [0, 0], [1, 1]]\n",
      "[[0, 0], [1, 1], [0, 0], [2, 1], [2, 2], [1, 1], [0, 0], [2, 2]]\n",
      "Epoch [5/100], [0.6480340361595154]\n",
      "[[0, 0], [2, 1], [0, 0], [1, 1], [2, 2], [2, 2], [2, 2], [0, 1]]\n",
      "[[0, 0], [2, 2], [0, 0], [1, 1], [1, 1], [2, 2], [1, 1], [1, 1]]\n",
      "Epoch [5/100], [0.5521733164787292]\n",
      "[[1, 1], [2, 2], [2, 2], [1, 1], [2, 1], [1, 1], [0, 0], [1, 1]]\n",
      "[[0, 0], [0, 0], [1, 1], [0, 0], [2, 2], [2, 2], [1, 1], [1, 1]]\n",
      "Epoch [5/100], [0.5520903468132019]\n",
      "[[0, 1], [0, 0], [2, 2], [1, 1], [2, 2], [0, 0], [1, 1], [0, 0]]\n",
      "[[2, 2], [1, 1], [2, 2], [2, 1], [1, 1], [2, 2], [0, 0], [1, 1]]\n",
      "Epoch [5/100], [0.6754453182220459]\n",
      "[[0, 0], [0, 1], [2, 2], [2, 2], [0, 0], [0, 0], [0, 0], [1, 0]]\n",
      "[[0, 0], [0, 0], [2, 2], [1, 1]]\n",
      "Epoch [5/100], [0.6303417682647705]\n",
      "Epoch End\n",
      "Epoch Start\n",
      "[[0, 0], [0, 0], [2, 2], [2, 2], [1, 1], [0, 0], [0, 0], [1, 1]]\n",
      "[[0, 0], [2, 2], [2, 2], [0, 0], [0, 0], [1, 1], [0, 0], [0, 0]]\n",
      "Epoch [6/100], [0.5527589917182922]\n",
      "[[2, 1], [0, 0], [2, 2], [0, 0], [0, 0], [2, 2], [1, 1], [1, 2]]\n",
      "[[1, 1], [0, 0], [0, 0], [2, 2], [1, 0], [0, 0], [2, 2], [1, 1]]\n",
      "Epoch [6/100], [0.6779070496559143]\n",
      "[[2, 2], [2, 2], [2, 2], [0, 0], [2, 2], [0, 0], [1, 1], [2, 2]]\n",
      "[[2, 2], [1, 1], [1, 1], [2, 2], [0, 0], [0, 0], [0, 1], [0, 0]]\n",
      "Epoch [6/100], [0.5920555591583252]\n",
      "[[0, 0], [0, 0], [2, 2], [2, 1], [0, 0], [0, 0], [1, 1], [2, 2]]\n",
      "[[2, 2], [0, 0], [1, 1], [2, 2], [1, 0], [2, 2], [1, 1], [0, 0]]\n",
      "Epoch [6/100], [0.7197997570037842]\n",
      "[[1, 1], [1, 1], [1, 1], [2, 2], [0, 0], [1, 0], [0, 0], [1, 1]]\n",
      "[[1, 1], [2, 1], [0, 0], [2, 2], [0, 0], [1, 1], [2, 2], [1, 1]]\n",
      "Epoch [6/100], [0.67384272813797]\n",
      "[[0, 0], [1, 1], [1, 1], [1, 1], [2, 2], [2, 1], [1, 1], [1, 1]]\n",
      "[[0, 0], [2, 2], [2, 1], [0, 1], [1, 1], [1, 1], [0, 0], [0, 0]]\n",
      "Epoch [6/100], [0.7124494910240173]\n",
      "[[2, 2], [1, 1], [1, 1], [1, 0], [2, 2], [1, 1], [1, 1], [0, 0]]\n",
      "[[0, 0], [1, 1], [0, 0], [0, 0], [0, 0], [2, 1], [1, 1], [2, 2]]\n",
      "Epoch [6/100], [0.6742367744445801]\n",
      "[[2, 1], [2, 2], [0, 0], [1, 0], [2, 2], [0, 0], [0, 1], [0, 0]]\n",
      "[[1, 1], [2, 2], [2, 2], [0, 0], [2, 2], [0, 0], [1, 1], [0, 0]]\n",
      "Epoch [6/100], [0.5921033024787903]\n",
      "[[2, 2], [1, 1], [0, 1], [0, 0], [0, 0], [1, 0], [0, 0], [0, 1]]\n",
      "[[0, 0], [1, 1], [2, 2], [1, 1], [1, 1], [0, 0], [1, 1], [0, 0]]\n",
      "Epoch [6/100], [0.551938533782959]\n",
      "[[2, 2], [2, 2], [1, 1], [2, 2], [1, 1], [1, 1], [2, 2], [2, 2]]\n",
      "[[1, 1], [1, 1], [0, 0], [0, 0], [0, 0], [1, 1], [1, 1], [2, 2]]\n",
      "Epoch [6/100], [0.5518942475318909]\n",
      "[[2, 2], [0, 0], [2, 2], [0, 0], [1, 1], [1, 1], [0, 1], [0, 0]]\n",
      "[[1, 1], [2, 2], [2, 2], [0, 0], [2, 2], [2, 2], [2, 2], [0, 0]]\n",
      "Epoch [6/100], [0.5538014769554138]\n",
      "[[2, 2], [2, 2], [0, 0], [2, 2], [1, 1], [2, 2], [0, 0], [2, 2]]\n",
      "[[1, 1], [2, 2], [2, 2], [0, 0]]\n",
      "Epoch [6/100], [0.5528643131256104]\n",
      "Epoch End\n",
      "Epoch Start\n",
      "[[0, 0], [0, 0], [0, 1], [0, 0], [0, 0], [0, 0], [1, 1], [2, 2]]\n",
      "[[0, 0], [0, 0], [0, 0], [1, 1], [0, 0], [2, 2], [2, 2], [1, 1]]\n",
      "Epoch [7/100], [0.5521432757377625]\n",
      "[[2, 2], [2, 2], [2, 2], [0, 0], [1, 1], [2, 2], [0, 0], [2, 2]]\n",
      "[[2, 2], [0, 0], [2, 2], [0, 0], [2, 2], [0, 0], [0, 0], [2, 2]]\n",
      "Epoch [7/100], [0.5524306893348694]\n",
      "[[1, 1], [0, 0], [0, 0], [1, 1], [2, 2], [0, 0], [0, 0], [0, 0]]\n",
      "[[0, 0], [2, 2], [0, 0], [2, 2], [0, 1], [1, 1], [0, 0], [0, 1]]\n",
      "Epoch [7/100], [0.6299712061882019]\n",
      "[[1, 1], [0, 0], [0, 0], [0, 0], [2, 1], [2, 2], [2, 2], [0, 0]]\n",
      "[[2, 1], [0, 0], [1, 1], [0, 0], [2, 2], [0, 1], [2, 2], [2, 2]]\n",
      "Epoch [7/100], [0.7921698093414307]\n",
      "[[0, 0], [1, 1], [1, 1], [2, 2], [1, 1], [2, 2], [0, 0], [2, 2]]\n"
     ]
    },
    {
     "name": "stderr",
     "output_type": "stream",
     "text": [
      "Traceback (most recent call last):\n",
      "  File \"/home/sujay/miniconda3/envs/sujay_under_water/lib/python3.8/multiprocessing/queues.py\", line 245, in _feed\n",
      "    send_bytes(obj)\n",
      "  File \"/home/sujay/miniconda3/envs/sujay_under_water/lib/python3.8/multiprocessing/connection.py\", line 200, in send_bytes\n",
      "    self._send_bytes(m[offset:offset + size])\n",
      "  File \"/home/sujay/miniconda3/envs/sujay_under_water/lib/python3.8/multiprocessing/connection.py\", line 411, in _send_bytes\n",
      "    self._send(header + buf)\n",
      "  File \"/home/sujay/miniconda3/envs/sujay_under_water/lib/python3.8/multiprocessing/connection.py\", line 368, in _send\n",
      "    n = write(self._handle, buf)\n",
      "BrokenPipeError: [Errno 32] Broken pipe\n"
     ]
    },
    {
     "ename": "KeyboardInterrupt",
     "evalue": "",
     "output_type": "error",
     "traceback": [
      "\u001b[0;31m---------------------------------------------------------------------------\u001b[0m",
      "\u001b[0;31mKeyboardInterrupt\u001b[0m                         Traceback (most recent call last)",
      "\u001b[1;32m/home/sujay/6th sem/ALL_SUJAY_STUFF_IN_THIS_DRIVE/Flower_CNN/flower-cnn.ipynb Cell 9'\u001b[0m in \u001b[0;36m<cell line: 2>\u001b[0;34m()\u001b[0m\n\u001b[1;32m     <a href='vscode-notebook-cell:/home/sujay/6th%20sem/ALL_SUJAY_STUFF_IN_THIS_DRIVE/Flower_CNN/flower-cnn.ipynb#ch0000008?line=14'>15</a>\u001b[0m \u001b[39mprint\u001b[39m(s)\n\u001b[1;32m     <a href='vscode-notebook-cell:/home/sujay/6th%20sem/ALL_SUJAY_STUFF_IN_THIS_DRIVE/Flower_CNN/flower-cnn.ipynb#ch0000008?line=16'>17</a>\u001b[0m loss \u001b[39m=\u001b[39m criterion(outputs, labels)\n\u001b[0;32m---> <a href='vscode-notebook-cell:/home/sujay/6th%20sem/ALL_SUJAY_STUFF_IN_THIS_DRIVE/Flower_CNN/flower-cnn.ipynb#ch0000008?line=17'>18</a>\u001b[0m loss\u001b[39m.\u001b[39;49mbackward()\n\u001b[1;32m     <a href='vscode-notebook-cell:/home/sujay/6th%20sem/ALL_SUJAY_STUFF_IN_THIS_DRIVE/Flower_CNN/flower-cnn.ipynb#ch0000008?line=18'>19</a>\u001b[0m optimizer\u001b[39m.\u001b[39mstep()\n\u001b[1;32m     <a href='vscode-notebook-cell:/home/sujay/6th%20sem/ALL_SUJAY_STUFF_IN_THIS_DRIVE/Flower_CNN/flower-cnn.ipynb#ch0000008?line=19'>20</a>\u001b[0m running_loss \u001b[39m+\u001b[39m\u001b[39m=\u001b[39m loss\u001b[39m.\u001b[39mitem()\n",
      "File \u001b[0;32m~/miniconda3/envs/sujay_under_water/lib/python3.8/site-packages/torch/_tensor.py:363\u001b[0m, in \u001b[0;36mTensor.backward\u001b[0;34m(self, gradient, retain_graph, create_graph, inputs)\u001b[0m\n\u001b[1;32m    354\u001b[0m \u001b[39mif\u001b[39;00m has_torch_function_unary(\u001b[39mself\u001b[39m):\n\u001b[1;32m    355\u001b[0m     \u001b[39mreturn\u001b[39;00m handle_torch_function(\n\u001b[1;32m    356\u001b[0m         Tensor\u001b[39m.\u001b[39mbackward,\n\u001b[1;32m    357\u001b[0m         (\u001b[39mself\u001b[39m,),\n\u001b[0;32m   (...)\u001b[0m\n\u001b[1;32m    361\u001b[0m         create_graph\u001b[39m=\u001b[39mcreate_graph,\n\u001b[1;32m    362\u001b[0m         inputs\u001b[39m=\u001b[39minputs)\n\u001b[0;32m--> 363\u001b[0m torch\u001b[39m.\u001b[39;49mautograd\u001b[39m.\u001b[39;49mbackward(\u001b[39mself\u001b[39;49m, gradient, retain_graph, create_graph, inputs\u001b[39m=\u001b[39;49minputs)\n",
      "File \u001b[0;32m~/miniconda3/envs/sujay_under_water/lib/python3.8/site-packages/torch/autograd/__init__.py:173\u001b[0m, in \u001b[0;36mbackward\u001b[0;34m(tensors, grad_tensors, retain_graph, create_graph, grad_variables, inputs)\u001b[0m\n\u001b[1;32m    168\u001b[0m     retain_graph \u001b[39m=\u001b[39m create_graph\n\u001b[1;32m    170\u001b[0m \u001b[39m# The reason we repeat same the comment below is that\u001b[39;00m\n\u001b[1;32m    171\u001b[0m \u001b[39m# some Python versions print out the first line of a multi-line function\u001b[39;00m\n\u001b[1;32m    172\u001b[0m \u001b[39m# calls in the traceback and some print out the last line\u001b[39;00m\n\u001b[0;32m--> 173\u001b[0m Variable\u001b[39m.\u001b[39;49m_execution_engine\u001b[39m.\u001b[39;49mrun_backward(  \u001b[39m# Calls into the C++ engine to run the backward pass\u001b[39;49;00m\n\u001b[1;32m    174\u001b[0m     tensors, grad_tensors_, retain_graph, create_graph, inputs,\n\u001b[1;32m    175\u001b[0m     allow_unreachable\u001b[39m=\u001b[39;49m\u001b[39mTrue\u001b[39;49;00m, accumulate_grad\u001b[39m=\u001b[39;49m\u001b[39mTrue\u001b[39;49;00m)\n",
      "\u001b[0;31mKeyboardInterrupt\u001b[0m: "
     ]
    }
   ],
   "source": [
    "num_epochs = 100\n",
    "for epoch in range(100):\n",
    "    print('Epoch Start')\n",
    "    running_loss = 0.0\n",
    "    for i, data in enumerate(trainloader, 0):\n",
    "        inputs, labels = data\n",
    "        inputs = inputs.to(device=device)\n",
    "        labels = labels.to(device=device)\n",
    "        optimizer.zero_grad()\n",
    "        outputs = NN(inputs)\n",
    "\n",
    "        op = [list(outputs[i]) for i in range(int(labels.shape[0]))]\n",
    "        leb = list(labels)\n",
    "        s = [[op[a].index(max(op[a])),int(labels[a])] for a in range(int(labels.shape[0]))]\n",
    "        print(s)\n",
    "\n",
    "        loss = criterion(outputs, labels)\n",
    "        loss.backward()\n",
    "        optimizer.step()\n",
    "        running_loss += loss.item()\n",
    "        # print('done iteration')\n",
    "        if (i+1) % 2 == 0:\n",
    "                print (f'Epoch [{epoch+1}/{num_epochs}], [{loss.item()}]')\n",
    "    print('Epoch End')\n",
    "    \n",
    "    \n",
    "print('Training Finished')"
   ]
  },
  {
   "cell_type": "code",
   "execution_count": 36,
   "metadata": {
    "execution": {
     "iopub.execute_input": "2021-11-22T16:05:23.313847Z",
     "iopub.status.busy": "2021-11-22T16:05:23.313538Z",
     "iopub.status.idle": "2021-11-22T16:06:20.674070Z",
     "shell.execute_reply": "2021-11-22T16:06:20.673138Z",
     "shell.execute_reply.started": "2021-11-22T16:05:23.313813Z"
    }
   },
   "outputs": [
    {
     "name": "stdout",
     "output_type": "stream",
     "text": [
      "Accuracy of the model on the 10000 test images: 84.57446808510639%\n"
     ]
    }
   ],
   "source": [
    "# NN.eval()  \n",
    "torch.save(NN.state_dict() , '/home/sujay/6th sem/ALL_SUJAY_STUFF_IN_THIS_DRIVE/Flower_CNN/classification_water_types.pth')\n",
    "model = NeuralNetwork().to(device)\n",
    "model.load_state_dict(torch.load('/home/sujay/6th sem/ALL_SUJAY_STUFF_IN_THIS_DRIVE/Flower_CNN/classification_water_types.pth'))\n",
    "with torch.no_grad():\n",
    "    correct = 0\n",
    "    total = 0\n",
    "    for images, labels in testloader:\n",
    "        outputs = model(images)\n",
    "        _, predicted = torch.max(outputs.data, 1)\n",
    "        total += labels.size(0)\n",
    "        correct += (predicted == labels).sum().item()\n",
    "\n",
    "    print('Accuracy of the model on the 10000 test images: {}%'\\\n",
    "          .format(100 * correct / total))\n"
   ]
  },
  {
   "cell_type": "code",
   "execution_count": 23,
   "metadata": {},
   "outputs": [],
   "source": []
  },
  {
   "cell_type": "code",
   "execution_count": 24,
   "metadata": {},
   "outputs": [
    {
     "data": {
      "text/plain": [
       "<All keys matched successfully>"
      ]
     },
     "execution_count": 24,
     "metadata": {},
     "output_type": "execute_result"
    }
   ],
   "source": []
  },
  {
   "cell_type": "code",
   "execution_count": null,
   "metadata": {},
   "outputs": [],
   "source": []
  }
 ],
 "metadata": {
  "kernelspec": {
   "display_name": "Python 3",
   "language": "python",
   "name": "python3"
  },
  "language_info": {
   "codemirror_mode": {
    "name": "ipython",
    "version": 3
   },
   "file_extension": ".py",
   "mimetype": "text/x-python",
   "name": "python",
   "nbconvert_exporter": "python",
   "pygments_lexer": "ipython3",
   "version": "3.8.13"
  },
  "vscode": {
   "interpreter": {
    "hash": "28b13815bfbac4de50b914375022404ccb6b18fe36cddce2ea92297c278deccb"
   }
  }
 },
 "nbformat": 4,
 "nbformat_minor": 4
}
